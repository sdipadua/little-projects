{
  "nbformat": 4,
  "nbformat_minor": 0,
  "metadata": {
    "colab": {
      "name": "mad libs.ipynb",
      "provenance": []
    },
    "kernelspec": {
      "name": "python3",
      "display_name": "Python 3"
    }
  },
  "cells": [
    {
      "cell_type": "markdown",
      "metadata": {
        "id": "QnXeq0xM1cLS",
        "colab_type": "text"
      },
      "source": [
        "# practice"
      ]
    },
    {
      "cell_type": "code",
      "metadata": {
        "id": "_4zMF6Q72toT",
        "colab_type": "code",
        "colab": {}
      },
      "source": [
        "color = input(\"Enter a color: \")\n",
        "pluralNoun = input(\"Enter a plural noun: \")\n",
        "celebrity = input(\"Enter a celebrity: \")\n",
        "\n",
        "print(\"Roses are\", color)\n",
        "print(pluralNoun + \" are blue\")\n",
        "print(\"I love\", celebrity)"
      ],
      "execution_count": null,
      "outputs": []
    },
    {
      "cell_type": "markdown",
      "metadata": {
        "id": "NW2_cSBF2w1v",
        "colab_type": "text"
      },
      "source": [
        "# more practice"
      ]
    },
    {
      "cell_type": "code",
      "metadata": {
        "id": "kwRNqZG-2yYC",
        "colab_type": "code",
        "colab": {
          "base_uri": "https://localhost:8080/",
          "height": 153
        },
        "outputId": "039cc31c-62ec-4d5c-d8d9-5aadd08d46ad"
      },
      "source": [
        "adjective1 = input(\"Tell me an adjective, and click enter. \")\n",
        "noun1 = input(\"Tell me a noun (plural), and click enter. \")\n",
        "noun2 = input(\"Tell me another noun, and click enter. \")\n",
        "adjective2 = input(\"Tell me an another adjective, and click enter. \")\n",
        "\n",
        "print(\"Roses are \" + adjective1)\n",
        "print(noun1 + \" are blue\")\n",
        "print(noun2 + \" is \" + adjective2)\n",
        "print(\"And so are you!\")"
      ],
      "execution_count": 4,
      "outputs": [
        {
          "output_type": "stream",
          "text": [
            "Tell me an adjective, and click enter. red\n",
            "Tell me a noun (plural), and click enter. cars\n",
            "Tell me another noun, and click enter. house\n",
            "Tell me an another adjective, and click enter. big\n",
            "Roses are red\n",
            "cars are blue\n",
            "house is big\n",
            "And so are you!\n"
          ],
          "name": "stdout"
        }
      ]
    },
    {
      "cell_type": "markdown",
      "metadata": {
        "id": "mKpNxnn93dwJ",
        "colab_type": "text"
      },
      "source": [
        "# making my own mad libs"
      ]
    },
    {
      "cell_type": "code",
      "metadata": {
        "id": "0rU7rYM-3gFs",
        "colab_type": "code",
        "colab": {
          "base_uri": "https://localhost:8080/",
          "height": 105
        },
        "outputId": "d687e892-c424-4823-d6e2-62f992239600"
      },
      "source": [
        "adj1 = input(\"Enter an adjective: \")\n",
        "n1 = input(\"Enter a noun: \")\n",
        "pln1 = input(\"Enter a plural noun: \")\n",
        "\n",
        "print(\"If you go to some \" + adj1 + \" place like Yellowstone National \" + n1 + \", you must know how to deal with the wild animals such as bears and wolves and \" + pln1 + \".\")  "
      ],
      "execution_count": 6,
      "outputs": [
        {
          "output_type": "stream",
          "text": [
            "Enter an adjective: big\n",
            "Enter a noun: lamp\n",
            "Enter a plural noun: frames\n",
            "If you go to some big place like Yellowstone National lamp, you must know how to deal with the wild animals such as bears and wolves and frames.\n"
          ],
          "name": "stdout"
        }
      ]
    }
  ]
}